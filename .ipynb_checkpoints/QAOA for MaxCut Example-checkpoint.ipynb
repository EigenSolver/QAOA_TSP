{
 "cells": [
  {
   "cell_type": "markdown",
   "metadata": {},
   "source": [
    "# How to use our ProjectQ QAOA for a MaxCut example"
   ]
  },
  {
   "cell_type": "markdown",
   "metadata": {},
   "source": [
    "## Sample problem: graph with 3 nodes"
   ]
  },
  {
   "cell_type": "markdown",
   "metadata": {},
   "source": [
    "First, let's make some imports:"
   ]
  },
  {
   "cell_type": "code",
   "execution_count": 1,
   "metadata": {},
   "outputs": [],
   "source": [
    "# ProjectQ imports: QAOA and graph-to-hamiltonian converter\n",
    "from QAOA import QAOA\n",
    "from GraphToHamiltonian import maxcut_cost_ham, maxcut_mixer_ham\n",
    "from projectq import MainEngine\n",
    "\n",
    "# useful packages for making graphs and drawing them\n",
    "import numpy as np\n",
    "import networkx as nx\n",
    "import matplotlib.pyplot as plt"
   ]
  },
  {
   "cell_type": "markdown",
   "metadata": {},
   "source": [
    "### Generating a graph"
   ]
  },
  {
   "cell_type": "markdown",
   "metadata": {},
   "source": [
    "Now, let's make a simple graph with 3 nodes:"
   ]
  },
  {
   "cell_type": "code",
   "execution_count": 2,
   "metadata": {},
   "outputs": [
    {
     "data": {
      "image/png": "[encoded data removed]",
      "text/plain": [
       "<Figure size 432x288 with 1 Axes>"
      ]
     },
     "metadata": {},
     "output_type": "display_data"
    }
   ],
   "source": [
    "# generating a graph with 3 nodes\n",
    "n = 3\n",
    "nodes = list(range(n))\n",
    "edges = [(0, 1), (1, 2)]\n",
    "\n",
    "G = nx.Graph()\n",
    "G.add_nodes_from(nodes)\n",
    "G.add_edges_from(edges)\n",
    "\n",
    "# Let's draw this thing\n",
    "colors = ['r' for node in G.nodes()]\n",
    "pos = nx.spring_layout(G)\n",
    "default_axes = plt.axes(frameon=True)\n",
    "nx.draw_networkx(G, node_color=colors, node_size=600, alpha=.8, ax=default_axes, pos=pos)"
   ]
  },
  {
   "cell_type": "markdown",
   "metadata": {},
   "source": [
    "### Using QAOA"
   ]
  },
  {
   "cell_type": "markdown",
   "metadata": {},
   "source": [
    "Now let's find the optimal assignment of 0 and 1 for each node in the above graph. First create the cost and mixer Hamiltonians needed to feed into QAOA for the graph above:"
   ]
  },
  {
   "cell_type": "code",
   "execution_count": 3,
   "metadata": {},
   "outputs": [
    {
     "name": "stdout",
     "output_type": "stream",
     "text": [
      "Cost:\n",
      "-1.0 I +\n",
      "0.5 Z0 Z1 +\n",
      "0.5 Z1 Z2\n",
      "\n",
      "Mixer:\n",
      "0.0 I +\n",
      "-1.0 X0 +\n",
      "-1.0 X1 +\n",
      "-1.0 X2\n",
      "\n"
     ]
    }
   ],
   "source": [
    "cost = maxcut_cost_ham(graph = G)\n",
    "mixer = maxcut_mixer_ham(graph = G)\n",
    "print('Cost:\\n{}\\n\\nMixer:\\n{}\\n'.format(cost, mixer))"
   ]
  },
  {
   "cell_type": "markdown",
   "metadata": {},
   "source": [
    "Now let's instantiate QAOA with the specified cost, mixer, number of steps, and number of \"draws\" (samples):"
   ]
  },
  {
   "cell_type": "code",
   "execution_count": null,
   "metadata": {},
   "outputs": [],
   "source": [
    "eng = MainEngine()\n",
    "maxcut_solver = QAOA(cost = cost,\n",
    "                     mixer = mixer, \n",
    "                     n_steps = 1, \n",
    "                     engine = eng, \n",
    "                     vqe_run_kwargs = {'verbose': 1, 'draws': 100})"
   ]
  },
  {
   "cell_type": "markdown",
   "metadata": {},
   "source": [
    "Solve for betas and gammas. All of the optimization happens here:"
   ]
  },
  {
   "cell_type": "code",
   "execution_count": null,
   "metadata": {},
   "outputs": [
    {
     "name": "stdout",
     "output_type": "stream",
     "text": [
      "Iteration 1: \n",
      "  Params: [1.05709404 2.76541355] \n",
      "  Expectation: -0.97\n",
      "Iteration 2: \n",
      "  Params: [1.05709404 2.76541355] \n",
      "  Expectation: -1.0399999999999998\n"
     ]
    }
   ],
   "source": [
    "betas, gammas = maxcut_solver.solve_angles()\n",
    "print(\"Values of betas:\", betas)\n",
    "print(\"Values of gammas:\", gammas)"
   ]
  },
  {
   "cell_type": "markdown",
   "metadata": {},
   "source": [
    "Now that we have found the optimal beta and gamma values, find the most likely string, i.e. which assignment of 0's and 1's was most common. Hopefully they are the ones that actually correspond to a maximization of our initial cost function, i.e. maximizing the number of adjacent nodes with opposite value!"
   ]
  },
  {
   "cell_type": "code",
   "execution_count": null,
   "metadata": {},
   "outputs": [],
   "source": [
    "# beta and gamma values stored and used as default values in `likely_string`\n",
    "draws = 1000\n",
    "result = maxcut_solver.likely_string(draws = draws)\n",
    "print('\\nMost likely string:', result[0], 'obtained %i/%i times.' %(result[1], draws))"
   ]
  },
  {
   "cell_type": "code",
   "execution_count": null,
   "metadata": {},
   "outputs": [],
   "source": []
  }
 ],
 "metadata": {
  "kernelspec": {
   "display_name": "Python 3",
   "language": "python",
   "name": "python3"
  },
  "language_info": {
   "codemirror_mode": {
    "name": "ipython",
    "version": 3
   },
   "file_extension": ".py",
   "mimetype": "text/x-python",
   "name": "python",
   "nbconvert_exporter": "python",
   "pygments_lexer": "ipython3",
   "version": "3.7.3"
  }
 },
 "nbformat": 4,
 "nbformat_minor": 2
}
