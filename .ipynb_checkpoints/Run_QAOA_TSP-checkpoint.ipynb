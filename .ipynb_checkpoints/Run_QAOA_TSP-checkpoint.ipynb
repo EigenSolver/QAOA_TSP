{
 "cells": [
  {
   "cell_type": "code",
   "execution_count": 1,
   "metadata": {},
   "outputs": [],
   "source": [
    "import projectq as pq\n",
    "from projectq import MainEngine\n",
    "from projectq.ops import QubitOperator, Measure, All, H, TimeEvolution\n",
    "from projectq.meta import Loop\n",
    "from lib.graph_converter import TSP_Hamiltonian\n",
    "import numpy as np\n",
    "import scipy as sp\n",
    "\n",
    "from lib.qaoa_simple import QAOA"
   ]
  },
  {
   "cell_type": "code",
   "execution_count": 2,
   "metadata": {},
   "outputs": [],
   "source": [
    "from lib.random_graph_generator import graphs_decipher, get_distance_matrix"
   ]
  },
  {
   "cell_type": "code",
   "execution_count": 3,
   "metadata": {},
   "outputs": [],
   "source": [
    "def tsp_solver(data_file,solution_file,n,p,report_rate=10,method=\"TNC\",penalty=1000):\n",
    "    graphs=graphs_decipher(data_file,n)\n",
    "    N=len(graphs)\n",
    "    tag=\"n={0}_p={1}\".format(n,p)\n",
    "    print(\"TSP with \"+tag)\n",
    "    global eng\n",
    "    \n",
    "    with open(solution_file+tag,'w') as f:\n",
    "        for i in range(N):\n",
    "            H_cost=TSP_Hamiltonian(get_distance_matrix(graphs[i]),penalty_coeff=penalty*np.ones(2*n))\n",
    "            qaoa=QAOA(eng,H_cost,n**2,n_steps=p)\n",
    "            qaoa.optimize(method=method)\n",
    "            f.write(str(qaoa.get_result().fun)+str(' '))\n",
    "            f.write(str(qaoa.get_solution()))\n",
    "            f.write('\\n')\n",
    "            if (i+1)%report_rate==0:\n",
    "                print(\"progress {0}/{1}\".format(i+1,N))"
   ]
  },
  {
   "cell_type": "code",
   "execution_count": 12,
   "metadata": {},
   "outputs": [
    {
     "ename": "ModuleNotFoundError",
     "evalue": "No module named 'lib.tsp_solver'",
     "output_type": "error",
     "traceback": [
      "\u001b[0;31m---------------------------------------------------------------------------\u001b[0m",
      "\u001b[0;31mModuleNotFoundError\u001b[0m                       Traceback (most recent call last)",
      "\u001b[0;32m<ipython-input-12-b8d3688c26b3>\u001b[0m in \u001b[0;36m<module>\u001b[0;34m\u001b[0m\n\u001b[1;32m      1\u001b[0m \u001b[0;32mfrom\u001b[0m \u001b[0mlib\u001b[0m\u001b[0;34m.\u001b[0m\u001b[0mrandom_graph_generator\u001b[0m \u001b[0;32mimport\u001b[0m \u001b[0mgraphs_decipher\u001b[0m\u001b[0;34m,\u001b[0m\u001b[0mget_distance_matrix\u001b[0m\u001b[0;34m\u001b[0m\u001b[0;34m\u001b[0m\u001b[0m\n\u001b[0;32m----> 2\u001b[0;31m \u001b[0;32mfrom\u001b[0m \u001b[0mlib\u001b[0m\u001b[0;34m.\u001b[0m\u001b[0mtsp_solver\u001b[0m \u001b[0;32mimport\u001b[0m \u001b[0mheld_karp\u001b[0m\u001b[0;34m\u001b[0m\u001b[0;34m\u001b[0m\u001b[0m\n\u001b[0m\u001b[1;32m      3\u001b[0m \u001b[0;34m\u001b[0m\u001b[0m\n\u001b[1;32m      4\u001b[0m \u001b[0mn\u001b[0m\u001b[0;34m=\u001b[0m\u001b[0;36m4\u001b[0m\u001b[0;34m\u001b[0m\u001b[0;34m\u001b[0m\u001b[0m\n\u001b[1;32m      5\u001b[0m \u001b[0mdata_file\u001b[0m\u001b[0;34m=\u001b[0m\u001b[0;34m\"./data/random_graphs.txt\"\u001b[0m\u001b[0;34m\u001b[0m\u001b[0;34m\u001b[0m\u001b[0m\n",
      "\u001b[0;31mModuleNotFoundError\u001b[0m: No module named 'lib.tsp_solver'"
     ]
    }
   ],
   "source": [
    "from lib.random_graph_generator import graphs_decipher,get_distance_matrix\n",
    "from lib.tsp_solver import held_karp\n",
    "\n",
    "n=4\n",
    "data_file=\"./data/random_graphs.txt\"\n",
    "solution_file=\"./data/tsp_solutions_n={}.txt\".format(n)\n",
    "\n",
    "graphs=graphs_decipher(data_file,n)\n",
    "print(\"graphs loaded...\")\n",
    "\n",
    "solution_set=[]\n",
    "N=len(graphs)\n",
    "\n",
    "count=0\n",
    "for g in graphs:\n",
    "    solution_set.append(held_karp(get_distance_matrix(g)))\n",
    "    count+=1\n",
    "    if count%10==0:\n",
    "        print(\"solving TSP...{0}/{1}\".format(count,N))\n",
    "\n",
    "print(\"writing solutions...\")\n",
    "with open(solution_file,'w') as f:\n",
    "    for solution in solution_set:\n",
    "        f.write(str(solution)+\"\\n\")\n",
    "print(\"finished!\")"
   ]
  },
  {
   "cell_type": "code",
   "execution_count": null,
   "metadata": {},
   "outputs": [
    {
     "name": "stdout",
     "output_type": "stream",
     "text": [
      "compiler engine initialization...\n",
      "TSP with n=5_p=1\n"
     ]
    }
   ],
   "source": [
    "if __name__ == \"__main__\":\n",
    "    from lib.projectq_header import *\n",
    "    print('compiler engine initialization...')\n",
    "\n",
    "    data_file=\"./data/random_graphs.txt\"\n",
    "    solution_file=\"./data/tsp_solution\"\n",
    "    \n",
    "    n=5\n",
    "    for p in range(1,2):\n",
    "        tsp_solver(data_file,solution_file,n,p,report_rate=2)"
   ]
  }
 ],
 "metadata": {
  "kernelspec": {
   "display_name": "Python 3",
   "language": "python",
   "name": "python3"
  },
  "language_info": {
   "codemirror_mode": {
    "name": "ipython",
    "version": 3
   },
   "file_extension": ".py",
   "mimetype": "text/x-python",
   "name": "python",
   "nbconvert_exporter": "python",
   "pygments_lexer": "ipython3",
   "version": "3.7.3"
  }
 },
 "nbformat": 4,
 "nbformat_minor": 2
}
