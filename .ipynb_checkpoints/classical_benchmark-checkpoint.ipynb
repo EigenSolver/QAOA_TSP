{
 "cells": [
  {
   "cell_type": "code",
   "execution_count": 9,
   "metadata": {},
   "outputs": [],
   "source": [
    "import numpy as np\n",
    "from tsp_dp_solver import get_distance_matrix, held_karp\n",
    "from random_graph_generator import gen_graph\n",
    "from datetime import datetime"
   ]
  },
  {
   "cell_type": "code",
   "execution_count": null,
   "metadata": {},
   "outputs": [
    {
     "name": "stdout",
     "output_type": "stream",
     "text": [
      "progress: 5/20\n",
      "progress: 10/20\n",
      "progress: 15/20\n"
     ]
    }
   ],
   "source": [
    "min_n=5 # minimun graph size, number of vertices\n",
    "iter_n=20 # maximum graph size, number of vertices\n",
    "sample_size=20 # sample number for each graph size n\n",
    "\n",
    "'''\n",
    "remember that the time complexity of TSP problem is exponential,\n",
    "set the number of maximum n with caution!\n",
    "\n",
    "a extremely long runing time is expect for large n\n",
    "'''\n",
    "\n",
    "run_time=np.zeros([iter_n-min_n+1,sample_size])\n",
    "# print(run_time.shape)\n",
    "for n in range(min_n,iter_n+1):\n",
    "    for i in range(sample_size):\n",
    "        # generate random matrix and get the distance matrix\n",
    "        dist_matr=get_distance_matrix(gen_graph(n,scale=10))\n",
    "        # count time for HK algorithm\n",
    "        start_t=datetime.now()\n",
    "        held_karp(dist_matr)\n",
    "        end_t=datetime.now()\n",
    "        run_time[n-min_n,i]=(end_t-start_t).microseconds\n",
    "    if n%5==0:\n",
    "        print(\"progress: {0}/{1}\".format(n,iter_n))"
   ]
  },
  {
   "cell_type": "code",
   "execution_count": null,
   "metadata": {},
   "outputs": [],
   "source": [
    "import "
   ]
  }
 ],
 "metadata": {
  "kernelspec": {
   "display_name": "Python 3",
   "language": "python",
   "name": "python3"
  },
  "language_info": {
   "codemirror_mode": {
    "name": "ipython",
    "version": 3
   },
   "file_extension": ".py",
   "mimetype": "text/x-python",
   "name": "python",
   "nbconvert_exporter": "python",
   "pygments_lexer": "ipython3",
   "version": "3.7.3"
  }
 },
 "nbformat": 4,
 "nbformat_minor": 2
}
