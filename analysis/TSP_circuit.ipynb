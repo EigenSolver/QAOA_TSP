{
 "cells": [
  {
   "cell_type": "code",
   "execution_count": 1,
   "metadata": {},
   "outputs": [],
   "source": [
    "from optimizeq import QuantumCircuit\n",
    "import os \n",
    "import numpy as np\n",
    "import pandas as pd"
   ]
  },
  {
   "cell_type": "code",
   "execution_count": 2,
   "metadata": {},
   "outputs": [],
   "source": [
    "os.chdir(\"..\")"
   ]
  },
  {
   "cell_type": "code",
   "execution_count": 4,
   "metadata": {},
   "outputs": [],
   "source": [
    "os.chdir(\"./circuits\")"
   ]
  },
  {
   "cell_type": "code",
   "execution_count": 5,
   "metadata": {},
   "outputs": [],
   "source": [
    "QuantumCircuit.max_param=100000"
   ]
  },
  {
   "cell_type": "code",
   "execution_count": 6,
   "metadata": {},
   "outputs": [],
   "source": [
    "circ_data=[]"
   ]
  },
  {
   "cell_type": "code",
   "execution_count": 7,
   "metadata": {},
   "outputs": [],
   "source": [
    "for n in range(4,16):\n",
    "    p=1\n",
    "    file_name = \"TSP_circuit_n={0}_p={1}.txt\".format(n,p)\n",
    "    with open(file_name) as f:\n",
    "        circ=QuantumCircuit(f.readlines())\n",
    "        items=[circ.qubit_num, circ.circ_depth, circ.single_gate_count, circ.multi_gate_count]\n",
    "        circ_data.append(items)\n",
    "#         print(circ_data[-1])"
   ]
  },
  {
   "cell_type": "code",
   "execution_count": 8,
   "metadata": {},
   "outputs": [],
   "source": [
    "circ_frame=pd.DataFrame(circ_data, columns=[\"qubit_num\",\"circ_depth\",\"single_gate_count\",\"multi_gate_count\"])"
   ]
  },
  {
   "cell_type": "code",
   "execution_count": 9,
   "metadata": {},
   "outputs": [
    {
     "data": {
      "text/html": [
       "<div>\n",
       "<style scoped>\n",
       "    .dataframe tbody tr th:only-of-type {\n",
       "        vertical-align: middle;\n",
       "    }\n",
       "\n",
       "    .dataframe tbody tr th {\n",
       "        vertical-align: top;\n",
       "    }\n",
       "\n",
       "    .dataframe thead th {\n",
       "        text-align: right;\n",
       "    }\n",
       "</style>\n",
       "<table border=\"1\" class=\"dataframe\">\n",
       "  <thead>\n",
       "    <tr style=\"text-align: right;\">\n",
       "      <th></th>\n",
       "      <th>qubit_num</th>\n",
       "      <th>circ_depth</th>\n",
       "      <th>single_gate_count</th>\n",
       "      <th>multi_gate_count</th>\n",
       "    </tr>\n",
       "  </thead>\n",
       "  <tbody>\n",
       "    <tr>\n",
       "      <th>0</th>\n",
       "      <td>9</td>\n",
       "      <td>1049</td>\n",
       "      <td>183</td>\n",
       "      <td>723</td>\n",
       "    </tr>\n",
       "    <tr>\n",
       "      <th>1</th>\n",
       "      <td>16</td>\n",
       "      <td>772</td>\n",
       "      <td>484</td>\n",
       "      <td>1912</td>\n",
       "    </tr>\n",
       "    <tr>\n",
       "      <th>2</th>\n",
       "      <td>25</td>\n",
       "      <td>1574</td>\n",
       "      <td>1005</td>\n",
       "      <td>3965</td>\n",
       "    </tr>\n",
       "    <tr>\n",
       "      <th>3</th>\n",
       "      <td>36</td>\n",
       "      <td>1338</td>\n",
       "      <td>1806</td>\n",
       "      <td>7116</td>\n",
       "    </tr>\n",
       "    <tr>\n",
       "      <th>4</th>\n",
       "      <td>49</td>\n",
       "      <td>2136</td>\n",
       "      <td>2947</td>\n",
       "      <td>11599</td>\n",
       "    </tr>\n",
       "    <tr>\n",
       "      <th>5</th>\n",
       "      <td>64</td>\n",
       "      <td>1944</td>\n",
       "      <td>4488</td>\n",
       "      <td>17648</td>\n",
       "    </tr>\n",
       "    <tr>\n",
       "      <th>6</th>\n",
       "      <td>81</td>\n",
       "      <td>2738</td>\n",
       "      <td>6489</td>\n",
       "      <td>25497</td>\n",
       "    </tr>\n",
       "    <tr>\n",
       "      <th>7</th>\n",
       "      <td>100</td>\n",
       "      <td>2590</td>\n",
       "      <td>9010</td>\n",
       "      <td>35380</td>\n",
       "    </tr>\n",
       "    <tr>\n",
       "      <th>8</th>\n",
       "      <td>121</td>\n",
       "      <td>3380</td>\n",
       "      <td>12111</td>\n",
       "      <td>47531</td>\n",
       "    </tr>\n",
       "    <tr>\n",
       "      <th>9</th>\n",
       "      <td>144</td>\n",
       "      <td>3276</td>\n",
       "      <td>15852</td>\n",
       "      <td>62184</td>\n",
       "    </tr>\n",
       "    <tr>\n",
       "      <th>10</th>\n",
       "      <td>169</td>\n",
       "      <td>4062</td>\n",
       "      <td>20293</td>\n",
       "      <td>79573</td>\n",
       "    </tr>\n",
       "    <tr>\n",
       "      <th>11</th>\n",
       "      <td>196</td>\n",
       "      <td>4002</td>\n",
       "      <td>25494</td>\n",
       "      <td>99932</td>\n",
       "    </tr>\n",
       "  </tbody>\n",
       "</table>\n",
       "</div>"
      ],
      "text/plain": [
       "    qubit_num  circ_depth  single_gate_count  multi_gate_count\n",
       "0           9        1049                183               723\n",
       "1          16         772                484              1912\n",
       "2          25        1574               1005              3965\n",
       "3          36        1338               1806              7116\n",
       "4          49        2136               2947             11599\n",
       "5          64        1944               4488             17648\n",
       "6          81        2738               6489             25497\n",
       "7         100        2590               9010             35380\n",
       "8         121        3380              12111             47531\n",
       "9         144        3276              15852             62184\n",
       "10        169        4062              20293             79573\n",
       "11        196        4002              25494             99932"
      ]
     },
     "execution_count": 9,
     "metadata": {},
     "output_type": "execute_result"
    }
   ],
   "source": [
    "circ_frame"
   ]
  },
  {
   "cell_type": "code",
   "execution_count": 11,
   "metadata": {},
   "outputs": [],
   "source": [
    "import matplotlib.pylab as plt"
   ]
  },
  {
   "cell_type": "code",
   "execution_count": 13,
   "metadata": {},
   "outputs": [
    {
     "data": {
      "text/plain": [
       "[<matplotlib.lines.Line2D at 0x1eea9cbbb38>]"
      ]
     },
     "execution_count": 13,
     "metadata": {},
     "output_type": "execute_result"
    },
    {
     "data": {
      "image/png": "[encoded data removed]",
      "text/plain": [
       "<Figure size 600x400 with 1 Axes>"
      ]
     },
     "metadata": {
      "needs_background": "light"
     },
     "output_type": "display_data"
    }
   ],
   "source": [
    "plt.figure().dpi=100\n",
    "plt.xlabel(\"TSP size\")\n",
    "plt.ylabel(\"Quantum Circuit Depth\")\n",
    "plt.plot(np.sqrt(circ_frame[\"qubit_num\"])+1,circ_frame[\"circ_depth\"],'--o')"
   ]
  }
 ],
 "metadata": {
  "kernelspec": {
   "display_name": "Python 3",
   "language": "python",
   "name": "python3"
  },
  "language_info": {
   "codemirror_mode": {
    "name": "ipython",
    "version": 3
   },
   "file_extension": ".py",
   "mimetype": "text/x-python",
   "name": "python",
   "nbconvert_exporter": "python",
   "pygments_lexer": "ipython3",
   "version": "3.7.3"
  }
 },
 "nbformat": 4,
 "nbformat_minor": 2
}
