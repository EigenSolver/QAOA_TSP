{
 "cells": [
  {
   "cell_type": "code",
   "execution_count": 24,
   "metadata": {},
   "outputs": [],
   "source": [
    "import numpy as np\n",
    "import matplotlib.pylab as plt\n",
    "import pandas as pd\n",
    "\n",
    "\n",
    "import os.path\n",
    "CURDIR=os.path.abspath(\".\")\n",
    "os.chdir(\"..\")\n",
    "from lib.maxcut_solver import maxcut_count,brute_search"
   ]
  },
  {
   "cell_type": "code",
   "execution_count": 25,
   "metadata": {},
   "outputs": [],
   "source": [
    "def check_count(adj_m,conf,count,tolerance=0.02):\n",
    "    return np.abs(maxcut_count(conf,adj_m)-count)<tolerance\n",
    "\n",
    "def check_optimal(adj_m,count,tolerance=0.02):\n",
    "    return np.abs(brute_search(adj_m)[-1]-count)<tolerance"
   ]
  },
  {
   "cell_type": "code",
   "execution_count": 51,
   "metadata": {},
   "outputs": [],
   "source": [
    "def parse_data_file(file,method=\"benchmark\",count_check=True,tolerance=0.02):\n",
    "    '''\n",
    "    parse data text file, convert string to data\n",
    "    '''\n",
    "    if count_check:\n",
    "        adj_matrice=np.loadtxt(\"./data/random_adjancent_matrix.txt\")\n",
    "        N=adj_matrice.shape[0]\n",
    "        n=int(np.sqrt(adj_matrice.shape[1]))\n",
    "        \n",
    "    \n",
    "    def parse_benchmark(line,count_check=False,index=None):\n",
    "        conf,count=line[1:-2].split(\")\")\n",
    "        conf=tuple(map(lambda x: int((float(x)+1)/2),conf[7:-1].split(\",\")))\n",
    "        count=float(count.split(\",\")[1])\n",
    "        \n",
    "        if count_check:\n",
    "            adj_m=adj_matrice[index,:].reshape((n,n))\n",
    "            count_check=check_count(adj_m,conf,count,tolerance)\n",
    "            optimal_check=check_optimal(adj_m,count,tolerance)\n",
    "            if count_check:\n",
    "                return (conf,count,optimal_check)\n",
    "            else:\n",
    "                raise ValueError(\"incorrect edge count!\")\n",
    "        else:\n",
    "            return (conf,count)\n",
    "    \n",
    "    def parse_solution(line,count_check=False,index=None):\n",
    "        try:\n",
    "            conf,count=line.strip().split(\"(\")[-1].split(\"-\")\n",
    "            conf=tuple(map(int,conf[1:-3].split(\",\")))\n",
    "            count=float(count[:-1])\n",
    "            if count_check:\n",
    "                adj_m=adj_matrice[index,:].reshape((n,n))\n",
    "                count_check=check_count(adj_m,conf,count,tolerance)\n",
    "                optimal_check=check_optimal(adj_m,count,tolerance)\n",
    "                if count_check:\n",
    "                    return (conf,count,optimal_check)\n",
    "                else:\n",
    "                    raise ValueError(\"incorrect edge count!\")\n",
    "                    return None\n",
    "            else:\n",
    "                return (conf,count) \n",
    "        except ValueError:\n",
    "            return None\n",
    "    \n",
    "    parse_line=parse_solution\n",
    "    \n",
    "    if method==\"benchmark\":\n",
    "        parse_line=parse_benchmark\n",
    "    elif method==\"solution\":\n",
    "        parse_line==parse_solution\n",
    "    else:\n",
    "        print(\"invalid input method\")\n",
    "        return np.nan\n",
    "    \n",
    "    with open(file) as f:\n",
    "        lines=f.readlines()\n",
    "        return [parse_line(lines[i],count_check,i) for i in range(len(lines))]"
   ]
  },
  {
   "cell_type": "code",
   "execution_count": 72,
   "metadata": {},
   "outputs": [],
   "source": [
    "def result_benchmark(solution,benchmark,threshold=0.02):\n",
    "    \n",
    "    non_convergent=0\n",
    "    worse_performance=0\n",
    "    equal_performance=0\n",
    "    better_performance=0\n",
    "    \n",
    "    \n",
    "    for i in range(len(solution)):\n",
    "        if solution[i] is None:\n",
    "            non_convergent+=1\n",
    "        else:\n",
    "            \n",
    "            if np.abs(solution[i][1]-benchmark[i][1])<threshold:\n",
    "                    equal_performance+=1\n",
    "            elif solution[i][1]-benchmark[i][1]<-threshold:\n",
    "                worse_performance+=1\n",
    "            elif solution[i][1]-benchmark[i][1]>threshold:\n",
    "                better_performance+=1\n",
    "                \n",
    "    return [equal_performance,worse_performance,better_performance,non_convergent]"
   ]
  },
  {
   "cell_type": "code",
   "execution_count": 73,
   "metadata": {},
   "outputs": [],
   "source": [
    "benchmark_file=\"./data/maxcut_solution.txt\""
   ]
  },
  {
   "cell_type": "code",
   "execution_count": 99,
   "metadata": {},
   "outputs": [],
   "source": [
    "insight=[]\n",
    "count_check=True\n",
    "for i in range(1,5):\n",
    "    solution_file=\"./data/maxcut_solution_n=5_p=\"+str(i)\n",
    "    solution=parse_data_file(solution_file,method=\"solution\",count_check=count_check)\n",
    "    benchmark=parse_data_file(benchmark_file,method=\"benchmark\",count_check=count_check)\n",
    "    insight.append(result_benchmark(solution,benchmark))\n",
    "    if count_check:\n",
    "        insight[-1].append(sum([term[-1] for term in benchmark]))\n",
    "        insight[-1].append(sum([term[-1] if term is not None else False for term in solution]))"
   ]
  },
  {
   "cell_type": "code",
   "execution_count": 100,
   "metadata": {},
   "outputs": [],
   "source": [
    "insight=pd.DataFrame(data=insight,columns=[\"equal\",\"worse\",\"better\",\"non_conv\",\"gw_optimal\",\"qaoa_optimal\"])"
   ]
  },
  {
   "cell_type": "code",
   "execution_count": 101,
   "metadata": {},
   "outputs": [
    {
     "data": {
      "text/html": [
       "<div>\n",
       "<style scoped>\n",
       "    .dataframe tbody tr th:only-of-type {\n",
       "        vertical-align: middle;\n",
       "    }\n",
       "\n",
       "    .dataframe tbody tr th {\n",
       "        vertical-align: top;\n",
       "    }\n",
       "\n",
       "    .dataframe thead th {\n",
       "        text-align: right;\n",
       "    }\n",
       "</style>\n",
       "<table border=\"1\" class=\"dataframe\">\n",
       "  <thead>\n",
       "    <tr style=\"text-align: right;\">\n",
       "      <th></th>\n",
       "      <th>equal</th>\n",
       "      <th>worse</th>\n",
       "      <th>better</th>\n",
       "      <th>non_conv</th>\n",
       "      <th>gw_optimal</th>\n",
       "      <th>qaoa_optimal</th>\n",
       "    </tr>\n",
       "    <tr>\n",
       "      <th>p_value</th>\n",
       "      <th></th>\n",
       "      <th></th>\n",
       "      <th></th>\n",
       "      <th></th>\n",
       "      <th></th>\n",
       "      <th></th>\n",
       "    </tr>\n",
       "  </thead>\n",
       "  <tbody>\n",
       "    <tr>\n",
       "      <th>1</th>\n",
       "      <td>103</td>\n",
       "      <td>21</td>\n",
       "      <td>35</td>\n",
       "      <td>41</td>\n",
       "      <td>138</td>\n",
       "      <td>120</td>\n",
       "    </tr>\n",
       "    <tr>\n",
       "      <th>2</th>\n",
       "      <td>98</td>\n",
       "      <td>28</td>\n",
       "      <td>42</td>\n",
       "      <td>32</td>\n",
       "      <td>138</td>\n",
       "      <td>128</td>\n",
       "    </tr>\n",
       "    <tr>\n",
       "      <th>3</th>\n",
       "      <td>106</td>\n",
       "      <td>26</td>\n",
       "      <td>39</td>\n",
       "      <td>29</td>\n",
       "      <td>138</td>\n",
       "      <td>132</td>\n",
       "    </tr>\n",
       "    <tr>\n",
       "      <th>4</th>\n",
       "      <td>113</td>\n",
       "      <td>8</td>\n",
       "      <td>47</td>\n",
       "      <td>32</td>\n",
       "      <td>138</td>\n",
       "      <td>156</td>\n",
       "    </tr>\n",
       "  </tbody>\n",
       "</table>\n",
       "</div>"
      ],
      "text/plain": [
       "         equal  worse  better  non_conv  gw_optimal  qaoa_optimal\n",
       "p_value                                                          \n",
       "1          103     21      35        41         138           120\n",
       "2           98     28      42        32         138           128\n",
       "3          106     26      39        29         138           132\n",
       "4          113      8      47        32         138           156"
      ]
     },
     "execution_count": 101,
     "metadata": {},
     "output_type": "execute_result"
    }
   ],
   "source": [
    "insight.join(pd.Series(range(1,5),name=\"p_value\")).set_index(\"p_value\")#compare with goesman-williamson algorithm"
   ]
  },
  {
   "cell_type": "code",
   "execution_count": 18,
   "metadata": {},
   "outputs": [],
   "source": [
    "os.chdir(CURDIR)"
   ]
  }
 ],
 "metadata": {
  "kernelspec": {
   "display_name": "Python 3",
   "language": "python",
   "name": "python3"
  },
  "language_info": {
   "codemirror_mode": {
    "name": "ipython",
    "version": 3
   },
   "file_extension": ".py",
   "mimetype": "text/x-python",
   "name": "python",
   "nbconvert_exporter": "python",
   "pygments_lexer": "ipython3",
   "version": "3.7.3"
  }
 },
 "nbformat": 4,
 "nbformat_minor": 4
}
