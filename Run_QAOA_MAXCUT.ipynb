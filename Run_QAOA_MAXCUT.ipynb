{
 "cells": [
  {
   "cell_type": "code",
   "execution_count": null,
   "metadata": {},
   "outputs": [
    {
     "name": "stdout",
     "output_type": "stream",
     "text": [
      "compiler engine initialization...\n",
      "maxcut with n=5_p=2\n"
     ]
    }
   ],
   "source": [
    "import projectq as pq\n",
    "from projectq import MainEngine\n",
    "from projectq.ops import QubitOperator, Measure, All, H, TimeEvolution\n",
    "from projectq.meta import Loop\n",
    "from lib.graph_converter import MAXCUT_Hamiltonian\n",
    "\n",
    "import numpy as np\n",
    "import scipy as sp\n",
    "\n",
    "from lib.qaoa_simple import QAOA\n",
    "\n",
    "def maxcut_solver(data_file,solution_file,p,report_rate=10,method=\"TNC\"):\n",
    "    data=np.loadtxt(data_file)\n",
    "    N=data.shape[0]\n",
    "    n=int(np.sqrt(data.shape[1]))\n",
    "    tag=\"_n={0}_p={1}\".format(n,p)\n",
    "    print(\"maxcut with \"+tag)\n",
    "    global eng\n",
    "\n",
    "    with open(solution_file+tag,'w') as f:\n",
    "        for i in range(N):\n",
    "            H_cost=MAXCUT_Hamiltonian(data[i,:].reshape((n,n)))\n",
    "            qaoa=QAOA(eng,H_cost,n,n_steps=p)\n",
    "            qaoa.optimize(method=method)\n",
    "            f.write(str(qaoa.get_result().fun)+str(' '))\n",
    "            f.write(str(qaoa.get_solution()))\n",
    "            f.write('\\n')\n",
    "            if (i+1)%report_rate==0:\n",
    "                print(\"progress {0}/{1}\".format(i+1,N))\n",
    "\n",
    "if __name__ == \"__main__\":\n",
    "    from lib.projectq_header import *\n",
    "    print('compiler engine initialization...')\n",
    "\n",
    "    data_file=\"./data/random_adjancent_matrix.txt\"\n",
    "    solution_file=\"./data/maxcut_solution\"\n",
    "    \n",
    "    for p in range(2,5):\n",
    "        maxcut_solver(data_file,solution_file,p)\n",
    "\n",
    "    \n",
    "\n"
   ]
  },
  {
   "cell_type": "code",
   "execution_count": null,
   "metadata": {},
   "outputs": [],
   "source": []
  }
 ],
 "metadata": {
  "kernelspec": {
   "display_name": "Python (HiQ)",
   "language": "python",
   "name": "hiq"
  },
  "language_info": {
   "codemirror_mode": {
    "name": "ipython",
    "version": 3
   },
   "file_extension": ".py",
   "mimetype": "text/x-python",
   "name": "python",
   "nbconvert_exporter": "python",
   "pygments_lexer": "ipython3",
   "version": "3.7.3"
  }
 },
 "nbformat": 4,
 "nbformat_minor": 2
}
